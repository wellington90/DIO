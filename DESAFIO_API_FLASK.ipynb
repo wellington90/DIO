{
  "nbformat": 4,
  "nbformat_minor": 0,
  "metadata": {
    "colab": {
      "provenance": []
    },
    "kernelspec": {
      "name": "python3",
      "display_name": "Python 3"
    },
    "language_info": {
      "name": "python"
    }
  },
  "cells": [
    {
      "cell_type": "code",
      "execution_count": null,
      "metadata": {
        "id": "5Pqo4TSR2cpa"
      },
      "outputs": [],
      "source": [
        "!pip install flask"
      ]
    },
    {
      "cell_type": "code",
      "source": [
        "import pandas as pd\n",
        "from flask import jsonify, Flask\n",
        "import random as rk"
      ],
      "metadata": {
        "id": "cgfjKI5w27zC"
      },
      "execution_count": null,
      "outputs": []
    },
    {
      "cell_type": "code",
      "source": [
        "app = Flask(__name__)\n",
        "\n",
        "# Ler o arquivo em planilha.xlsx\n",
        "df = pd.read_excel('/content/planilha.xlsx')"
      ],
      "metadata": {
        "id": "FVDYjdtm2-T6"
      },
      "execution_count": null,
      "outputs": []
    },
    {
      "cell_type": "code",
      "source": [
        "@app.route(\"/\")\n",
        "def home():\n",
        "    \"\"\"\n",
        "    Página inicial com instruções.\n",
        "    \"\"\"\n",
        "    return \"<marquee><h3>Para verificar, adicione '/input' à URL e para saída adicione '/output' à URL.</h3></marquee>\"\n",
        "\n",
        "@app.route(\"/input\")\n",
        "def input_data():\n",
        "    \"\"\"\n",
        "    Retorna os dados de entrada.\n",
        "    \"\"\"\n",
        "    # Convertendo o DataFrame para um dicionário para retorná-lo como JSON\n",
        "    data_dict = df.to_dict()\n",
        "    return jsonify(data_dict)\n",
        "\n",
        "@app.route('/output', methods=['GET', 'POST'])\n",
        "def predict_json():\n",
        "    \"\"\"\n",
        "    Retorna a previsão juntamente com os dados de entrada.\n",
        "    \"\"\"\n",
        "    pred = rk.choice([\"positivo\", \"negativo\"])\n",
        "\n",
        "    # Criar um novo dicionário para adicionar a previsão\n",
        "    output_data = df.to_dict()\n",
        "    output_data[\"prediction\"] = pred\n",
        "\n",
        "    # Convertendo o dicionário para uma string JSON\n",
        "    json_data = jsonify(output_data)\n",
        "\n",
        "    # Formatando a string JSON\n",
        "    formatted_json = json_data.response[0]\n",
        "    return formatted_json\n",
        "\n",
        "if __name__ == '__main__':\n",
        "    app.run()"
      ],
      "metadata": {
        "id": "FHaCIfY15Nry"
      },
      "execution_count": null,
      "outputs": []
    }
  ]
}